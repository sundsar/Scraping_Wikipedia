{
 "cells": [
  {
   "cell_type": "markdown",
   "metadata": {},
   "source": [
    "#### Scrape to each news item of 'In the news' section and print out the related links to each news item"
   ]
  },
  {
   "cell_type": "code",
   "execution_count": 2,
   "metadata": {},
   "outputs": [],
   "source": [
    "#Import libraries \n",
    "from bs4 import BeautifulSoup\n",
    "import requests"
   ]
  },
  {
   "cell_type": "code",
   "execution_count": 3,
   "metadata": {},
   "outputs": [],
   "source": [
    "# Get soup object to scrape data\n",
    "source = requests.get('https://en.wikipedia.org/wiki/Main_Page').text\n",
    "soup = BeautifulSoup(source, 'lxml')"
   ]
  },
  {
   "cell_type": "code",
   "execution_count": 4,
   "metadata": {},
   "outputs": [
    {
     "name": "stdout",
     "output_type": "stream",
     "text": [
      "At the Primetime Emmy Awards, Schitt's Creek (lead actor Eugene Levy pictured) wins in seven major categories.\n",
      "Associated Links for the above news:\n",
      "https://en.wikipedia.org/wiki/72nd_Primetime_Emmy_Awards\n",
      "https://en.wikipedia.org/wiki/Schitt%27s_Creek\n",
      "https://en.wikipedia.org/wiki/Eugene_Levy\n",
      "\n",
      "In golf, Bryson DeChambeau wins the U.S. Open.\n",
      "Associated Links for the above news:\n",
      "https://en.wikipedia.org/wiki/Golf\n",
      "https://en.wikipedia.org/wiki/Bryson_DeChambeau\n",
      "https://en.wikipedia.org/wiki/2020_U.S._Open_(golf)\n",
      "\n",
      "Ruth Bader Ginsburg, Associate Justice of the Supreme Court of the United States and advocate for women's rights, dies at the age of 87.\n",
      "Associated Links for the above news:\n",
      "https://en.wikipedia.org/wiki/Ruth_Bader_Ginsburg\n",
      "https://en.wikipedia.org/wiki/Associate_Justice_of_the_Supreme_Court_of_the_United_States\n",
      "https://en.wikipedia.org/wiki/Death_of_Ruth_Bader_Ginsburg\n",
      "\n",
      "Yoshihide Suga becomes Prime Minister of Japan, replacing Shinzo Abe.\n",
      "Associated Links for the above news:\n",
      "https://en.wikipedia.org/wiki/Yoshihide_Suga\n",
      "https://en.wikipedia.org/wiki/Prime_Minister_of_Japan\n",
      "https://en.wikipedia.org/wiki/Shinzo_Abe\n",
      "\n"
     ]
    }
   ],
   "source": [
    "# Narrow down to the news item\n",
    "unordered_lists = soup.find('div', id=\"mp-itn\").ul\n",
    "list_items = unordered_lists('li')\n",
    "for list_item in list_items:\n",
    "    print(list_item.text)\n",
    "\n",
    "    # Get related links for each news item\n",
    "    rel_links = list()\n",
    "    for atag in list_item('a'):\n",
    "        link = atag.get('href', None)\n",
    "        rel_links.append('https://en.wikipedia.org' + link)\n",
    "    print('Associated Links for the above news:')\n",
    "    for item in rel_links:\n",
    "        print(item)\n",
    "\n",
    "    print()"
   ]
  },
  {
   "cell_type": "code",
   "execution_count": null,
   "metadata": {},
   "outputs": [],
   "source": []
  }
 ],
 "metadata": {
  "kernelspec": {
   "display_name": "Python 3",
   "language": "python",
   "name": "python3"
  },
  "language_info": {
   "codemirror_mode": {
    "name": "ipython",
    "version": 3
   },
   "file_extension": ".py",
   "mimetype": "text/x-python",
   "name": "python",
   "nbconvert_exporter": "python",
   "pygments_lexer": "ipython3",
   "version": "3.7.6"
  }
 },
 "nbformat": 4,
 "nbformat_minor": 4
}
