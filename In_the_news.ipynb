{
 "cells": [
  {
   "cell_type": "markdown",
   "metadata": {},
   "source": [
    "#### Scrape to each news item of 'In the news' section and print out the related links to each news item"
   ]
  },
  {
   "cell_type": "code",
   "execution_count": 6,
   "metadata": {},
   "outputs": [],
   "source": [
    "#Import libraries \n",
    "from bs4 import BeautifulSoup\n",
    "import requests"
   ]
  },
  {
   "cell_type": "code",
   "execution_count": 7,
   "metadata": {},
   "outputs": [],
   "source": [
    "def get_wikinews():\n",
    "    # Get soup object to scrape data\n",
    "    source = requests.get('https://en.wikipedia.org/wiki/Main_Page').text\n",
    "    soup = BeautifulSoup(source, 'lxml')\n",
    "    # Narrow down to the news item\n",
    "    unordered_lists = soup.find('div', id=\"mp-itn\").ul\n",
    "    list_items = unordered_lists('li')\n",
    "    for list_item in list_items:\n",
    "        print(list_item.text)\n",
    "        # Get related links for each news item\n",
    "        rel_links = list()\n",
    "        for atag in list_item('a'):\n",
    "            link = atag.get('href', None)\n",
    "            rel_links.append('https://en.wikipedia.org' + link)\n",
    "        print('Associated Links for the above news:')\n",
    "        for item in rel_links:\n",
    "            print(item)\n",
    "        print()"
   ]
  },
  {
   "cell_type": "code",
   "execution_count": 8,
   "metadata": {},
   "outputs": [
    {
     "name": "stdout",
     "output_type": "stream",
     "text": [
      "A shooting at Kabul University's campus, Afghanistan, leaves 35 people dead and 50 others injured.\n",
      "Associated Links for the above news:\n",
      "https://en.wikipedia.org/wiki/2020_Kabul_University_attack\n",
      "https://en.wikipedia.org/wiki/Kabul_University\n",
      "\n",
      "Typhoon Goni makes landfall in the Philippines as a super typhoon, killing at least 24 people.\n",
      "Associated Links for the above news:\n",
      "https://en.wikipedia.org/wiki/Typhoon_Goni_(2020)\n",
      "https://en.wikipedia.org/wiki/Tropical_cyclone_scales#Western_Pacific\n",
      "\n",
      "Scottish actor Sean Connery (pictured) dies at the age of 90.\n",
      "Associated Links for the above news:\n",
      "https://en.wikipedia.org/wiki/Sean_Connery\n",
      "\n",
      "An earthquake in the Aegean Sea kills at least 110 people and injures more than 1,000 others.\n",
      "Associated Links for the above news:\n",
      "https://en.wikipedia.org/wiki/2020_Aegean_Sea_earthquake\n",
      "https://en.wikipedia.org/wiki/Aegean_Sea\n",
      "\n"
     ]
    }
   ],
   "source": [
    "get_wikinews()"
   ]
  },
  {
   "cell_type": "code",
   "execution_count": null,
   "metadata": {},
   "outputs": [],
   "source": []
  }
 ],
 "metadata": {
  "kernelspec": {
   "display_name": "Python 3",
   "language": "python",
   "name": "python3"
  },
  "language_info": {
   "codemirror_mode": {
    "name": "ipython",
    "version": 3
   },
   "file_extension": ".py",
   "mimetype": "text/x-python",
   "name": "python",
   "nbconvert_exporter": "python",
   "pygments_lexer": "ipython3",
   "version": "3.7.6"
  }
 },
 "nbformat": 4,
 "nbformat_minor": 4
}
