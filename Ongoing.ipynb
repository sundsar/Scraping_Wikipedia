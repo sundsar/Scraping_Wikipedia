{
 "cells": [
  {
   "cell_type": "markdown",
   "metadata": {},
   "source": [
    "#### Scrape to each 'Ongoing' snippet and open each snippet in a Web Browser"
   ]
  },
  {
   "cell_type": "code",
   "execution_count": 1,
   "metadata": {},
   "outputs": [],
   "source": [
    "from bs4 import BeautifulSoup\n",
    "import requests\n",
    "import webbrowser"
   ]
  },
  {
   "cell_type": "code",
   "execution_count": 3,
   "metadata": {},
   "outputs": [],
   "source": [
    "# Get soup object to scrape data\n",
    "source = requests.get('https://en.wikipedia.org/wiki/Main_Page').text\n",
    "soup = BeautifulSoup(source, 'lxml')"
   ]
  },
  {
   "cell_type": "code",
   "execution_count": 4,
   "metadata": {},
   "outputs": [],
   "source": [
    "# Narrow down to 'Ongoing' news content\n",
    "contents = soup.find('div', class_=\"itn-footer\")"
   ]
  },
  {
   "cell_type": "code",
   "execution_count": 5,
   "metadata": {},
   "outputs": [],
   "source": [
    "# Save all 'Ongoing' list items\n",
    "unordered_lists = contents.find('div', class_=\"hlist hlist-separated inline\").ul\n",
    "list_items = unordered_lists('li')"
   ]
  },
  {
   "cell_type": "code",
   "execution_count": 6,
   "metadata": {},
   "outputs": [
    {
     "name": "stdout",
     "output_type": "stream",
     "text": [
      "Opening Wikipedia Page for: Belarusian protests\n",
      "Opening Wikipedia Page for: Western United States wildfires\n"
     ]
    }
   ],
   "source": [
    "# Open Wiki link for each 'Ongoing' Topic\n",
    "for list_item in list_items:\n",
    "    print(\"Opening Wikipedia Page for: \" + list_item.text)\n",
    "    for atag in list_item('a'):\n",
    "        link = atag.get('href', None)\n",
    "        end_link = ('https://en.wikipedia.org' + link)\n",
    "        webbrowser.open(end_link)"
   ]
  },
  {
   "cell_type": "code",
   "execution_count": null,
   "metadata": {},
   "outputs": [],
   "source": []
  }
 ],
 "metadata": {
  "kernelspec": {
   "display_name": "Python 3",
   "language": "python",
   "name": "python3"
  },
  "language_info": {
   "codemirror_mode": {
    "name": "ipython",
    "version": 3
   },
   "file_extension": ".py",
   "mimetype": "text/x-python",
   "name": "python",
   "nbconvert_exporter": "python",
   "pygments_lexer": "ipython3",
   "version": "3.7.6"
  }
 },
 "nbformat": 4,
 "nbformat_minor": 4
}
