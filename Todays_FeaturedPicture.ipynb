{
 "cells": [
  {
   "cell_type": "markdown",
   "metadata": {},
   "source": [
    "#### Scrape to \"Today's featured picture\" details"
   ]
  },
  {
   "cell_type": "code",
   "execution_count": 2,
   "metadata": {},
   "outputs": [],
   "source": [
    "# Import required Libraries\n",
    "from bs4 import BeautifulSoup\n",
    "import requests\n",
    "import webbrowser"
   ]
  },
  {
   "cell_type": "code",
   "execution_count": 3,
   "metadata": {},
   "outputs": [],
   "source": [
    "# Get soup object to scrape data\n",
    "source = requests.get('https://en.wikipedia.org/wiki/Main_Page').text\n",
    "soup = BeautifulSoup(source, 'lxml')"
   ]
  },
  {
   "cell_type": "code",
   "execution_count": 4,
   "metadata": {},
   "outputs": [],
   "source": [
    "# Narrow down to the div tag that contains 'todays featured picture' details\n",
    "contents = soup.find('div', id=\"mp-tfp\")"
   ]
  },
  {
   "cell_type": "code",
   "execution_count": 5,
   "metadata": {},
   "outputs": [],
   "source": [
    "# Get Image name and biuld image Link\n",
    "image_atag = contents.find('a', class_=\"image\")\n",
    "image_data = image_atag.get('href', None)\n",
    "lst = image_data.split('/')\n",
    "image_name = lst[2]\n",
    "image_link = \"https://en.wikipedia.org/wiki/Main_Page#/media/\" + image_name"
   ]
  },
  {
   "cell_type": "code",
   "execution_count": 6,
   "metadata": {},
   "outputs": [],
   "source": [
    "# Get summary text for the picture and picture credit\n",
    "summary = contents.find_all('p')\n",
    "pic_summary = summary[0].text\n",
    "pic_credit = summary[1].text"
   ]
  },
  {
   "cell_type": "code",
   "execution_count": 8,
   "metadata": {},
   "outputs": [
    {
     "name": "stdout",
     "output_type": "stream",
     "text": [
      "https://en.wikipedia.org/wiki/Main_Page#/media/File:Cathedral_(Siena)_-_Dome_interior.jpg \n",
      "\n",
      "Siena Cathedral, a medieval church in Siena, Italy, dedicated to the Assumption of Mary, was designed and completed between 1215 and 1263. It has the form of a Latin cross with a slightly projecting transept, a dome and a bell tower. The dome rises from a hexagonal base with supporting columns and was completed in 1264. This photograph shows the interior of the dome; the gilded lantern at the top was added by Gian Lorenzo Bernini and resembles a golden sun. The trompe-l'œil coffers were painted in blue with golden stars in the late 15th century. The colonnade in the drum is adorned with images and statues of 42 patriarchs and prophets, painted in 1481 by Guidoccio Cozzarelli and Benvenuto di Giovanni.\n",
      " \n",
      " Photograph credit: Livioandronico2013\n"
     ]
    },
    {
     "data": {
      "text/plain": [
       "True"
      ]
     },
     "execution_count": 8,
     "metadata": {},
     "output_type": "execute_result"
    }
   ],
   "source": [
    "# End Display\n",
    "print(image_link, '\\n')\n",
    "print(pic_summary, '\\n', pic_credit)\n",
    "webbrowser.open(image_link)"
   ]
  }
 ],
 "metadata": {
  "kernelspec": {
   "display_name": "Python 3",
   "language": "python",
   "name": "python3"
  },
  "language_info": {
   "codemirror_mode": {
    "name": "ipython",
    "version": 3
   },
   "file_extension": ".py",
   "mimetype": "text/x-python",
   "name": "python",
   "nbconvert_exporter": "python",
   "pygments_lexer": "ipython3",
   "version": "3.7.6"
  }
 },
 "nbformat": 4,
 "nbformat_minor": 4
}
