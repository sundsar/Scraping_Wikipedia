{
 "cells": [
  {
   "cell_type": "markdown",
   "metadata": {},
   "source": [
    "#### Scrape to \"Today's featured picture\" details"
   ]
  },
  {
   "cell_type": "code",
   "execution_count": 3,
   "metadata": {},
   "outputs": [],
   "source": [
    "# Import required Libraries\n",
    "from bs4 import BeautifulSoup\n",
    "import requests\n",
    "import webbrowser"
   ]
  },
  {
   "cell_type": "code",
   "execution_count": 5,
   "metadata": {},
   "outputs": [],
   "source": [
    "def get_wikitfp():\n",
    "    # Get soup object to scrape data\n",
    "    source = requests.get('https://en.wikipedia.org/wiki/Main_Page').text\n",
    "    soup = BeautifulSoup(source, 'lxml')\n",
    "    # Narrow down to the div tag that contains 'todays featured picture' details\n",
    "    contents = soup.find('div', id=\"mp-tfp\")\n",
    "    # Get Image name and biuld image Link\n",
    "    image_atag = contents.find('a', class_=\"image\")\n",
    "    image_data = image_atag.get('href', None)\n",
    "    lst = image_data.split('/')\n",
    "    image_name = lst[2]\n",
    "    image_link = \"https://en.wikipedia.org/wiki/Main_Page#/media/\" + image_name\n",
    "    # Get summary text for the picture, picture credit\n",
    "    summary = contents.find_all('p')\n",
    "    pic_summary = summary[0].text\n",
    "    pic_credit = summary[1].text\n",
    "    # End Display\n",
    "    print(image_link, '\\n')\n",
    "    print(pic_summary, '\\n', pic_credit)\n",
    "    webbrowser.open(image_link)"
   ]
  },
  {
   "cell_type": "code",
   "execution_count": 6,
   "metadata": {},
   "outputs": [
    {
     "name": "stdout",
     "output_type": "stream",
     "text": [
      "https://en.wikipedia.org/wiki/Main_Page#/media/File:Le_comte_Ory_-_Dubois_%26_chez_Martinet_-_Final_scene.jpg \n",
      "\n",
      "Le comte Ory is a comic opera written by Gioachino Rossini in 1828. The opera is set in France in around 1200; most of the men are away at the Crusades, and the Countess Adèle and the women remaining in the castle of Formoutiers are melancholy. They are tricked into admitting a group of pilgrim nuns during a storm; these are really the scheming young Count Ory and his companions in disguise. He attempts to seduce the countess, but flees when the crusaders return. This engraving depicts the final scene of the opera, as performed by the Paris Opera at the Salle Le Peletier in 1828.\n",
      " \n",
      " Engraving credit: Dubois; restored by Adam Cuerden\n"
     ]
    }
   ],
   "source": [
    "get_wikitfp()"
   ]
  },
  {
   "cell_type": "code",
   "execution_count": null,
   "metadata": {},
   "outputs": [],
   "source": []
  }
 ],
 "metadata": {
  "kernelspec": {
   "display_name": "Python 3",
   "language": "python",
   "name": "python3"
  },
  "language_info": {
   "codemirror_mode": {
    "name": "ipython",
    "version": 3
   },
   "file_extension": ".py",
   "mimetype": "text/x-python",
   "name": "python",
   "nbconvert_exporter": "python",
   "pygments_lexer": "ipython3",
   "version": "3.7.6"
  }
 },
 "nbformat": 4,
 "nbformat_minor": 4
}
